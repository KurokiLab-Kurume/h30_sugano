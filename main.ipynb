{
 "cells": [
  {
   "cell_type": "markdown",
   "metadata": {},
   "source": [
    "## ライブラリ定義"
   ]
  },
  {
   "cell_type": "code",
   "execution_count": 13,
   "metadata": {},
   "outputs": [],
   "source": [
    "from __future__ import print_function\n",
    "from builtins import input\n",
    "from builtins import range\n",
    "\n",
    "import pyfftw   # See https://github.com/pyFFTW/pyFFTW/issues/40\n",
    "import numpy as np\n",
    "import functools\n",
    "import operator\n",
    "import matplotlib.pyplot as mplot\n",
    "mplot.rcParams[\"axes.grid\"] = False\n",
    "import math\n",
    "import pprint\n",
    "import os\n",
    "import shutil\n",
    "import time\n",
    "\n",
    "from scipy.linalg import toeplitz\n",
    "from sporco.dictlrn import cbpdndl\n",
    "from sporco.admm import cbpdn\n",
    "from sporco import util\n",
    "from sporco import plot\n",
    "from sporco import cnvrep\n",
    "import sporco.linalg as sl\n",
    "import sporco.metric as sm\n",
    "from sporco.admm import ccmod\n",
    "from skimage.measure import compare_ssim\n",
    "from skimage.measure import compare_psnr\n",
    "plot.config_notebook_plotting()"
   ]
  },
  {
   "cell_type": "code",
   "execution_count": 15,
   "metadata": {},
   "outputs": [],
   "source": [
    "def getimages():\n",
    "    exim = util.ExampleImages(scaled=True, zoom=0.5, gray=True)\n",
    "    S1 = exim.image('barbara.png', idxexp=np.s_[10:522, 100:612])\n",
    "    S2 = exim.image('kodim23.png', idxexp=np.s_[:, 60:572])\n",
    "    S3 = exim.image('monarch.png', idxexp=np.s_[:, 160:672])\n",
    "    S4 = exim.image('sail.png', idxexp=np.s_[:, 210:722])\n",
    "    S5 = exim.image('tulips.png', idxexp=np.s_[:, 30:542])\n",
    "    return np.dstack((S1, S2, S3, S4, S5))"
   ]
  },
  {
   "cell_type": "markdown",
   "metadata": {},
   "source": [
    "## 学習用画像をダウンロード"
   ]
  },
  {
   "cell_type": "code",
   "execution_count": 30,
   "metadata": {},
   "outputs": [
    {
     "name": "stdout",
     "output_type": "stream",
     "text": [
      "5 images, each is 256x256.\n",
      "0.85105884\n"
     ]
    }
   ],
   "source": [
    "S = getimages().astype(np.float32)\n",
    "print(\"%d images, each is %dx%d.\" % (S.shape[2], S.shape[0], S.shape[1]))\n",
    "print(S[0][0][0])"
   ]
  },
  {
   "cell_type": "markdown",
   "metadata": {},
   "source": [
    "## 学習用画像の前処理"
   ]
  },
  {
   "cell_type": "code",
   "execution_count": 18,
   "metadata": {},
   "outputs": [],
   "source": [
    "Sl = np.zeros_like(S)\n",
    "Smean = np.mean(S*2, axis=(0, 1))\n",
    "Sh = S*2 - Smean"
   ]
  },
  {
   "cell_type": "markdown",
   "metadata": {},
   "source": [
    "## 辞書、係数の初期化"
   ]
  },
  {
   "cell_type": "code",
   "execution_count": 19,
   "metadata": {},
   "outputs": [],
   "source": [
    "#TODO: explicitly zero-padding (for me, foolish)\n",
    "D = np.random.randn(12, 12, 256)\n",
    "cri = cnvrep.CSC_ConvRepIndexing(D, S)\n",
    "Dr0 = np.asarray(D.reshape(cri.shpD), dtype=S.dtype)\n",
    "Slr = np.asarray(Sl.reshape(cri.shpS), dtype=S.dtype)\n",
    "Shr = np.asarray(Sh.reshape(cri.shpS), dtype=S.dtype)\n",
    "#Shf = sl.rfftn(Shr, s=cri.Nv, axes=cri.axisN) # implicitly zero-padding\n",
    "\n",
    "crop_op = []\n",
    "for l in Dr0.shape:\n",
    "    crop_op.append(slice(0, l))\n",
    "crop_op = tuple(crop_op)\n",
    "Dr0 = cnvrep.getPcn(Dr0.shape, cri.Nv, cri.dimN, cri.dimCd, zm=False)(cnvrep.zpad(Dr0, cri.Nv))[crop_op]"
   ]
  },
  {
   "cell_type": "markdown",
   "metadata": {},
   "source": [
    "## テスト用画像"
   ]
  },
  {
   "cell_type": "code",
   "execution_count": 29,
   "metadata": {},
   "outputs": [
    {
     "name": "stdout",
     "output_type": "stream",
     "text": [
      "cri_test\n",
      "{'C': 1,\n",
      " 'Cd': 1,\n",
      " 'K': 2,\n",
      " 'M': 256,\n",
      " 'N': 65536,\n",
      " 'Nv': (256, 256),\n",
      " 'axisC': 2,\n",
      " 'axisK': 3,\n",
      " 'axisM': 4,\n",
      " 'axisN': (0, 1),\n",
      " 'dimC': 0,\n",
      " 'dimCd': 0,\n",
      " 'dimK': 1,\n",
      " 'dimN': 2,\n",
      " 'shpD': (12, 12, 1, 1, 256),\n",
      " 'shpS': (256, 256, 1, 2, 1),\n",
      " 'shpX': (256, 256, 1, 2, 256)}\n"
     ]
    }
   ],
   "source": [
    "#テスト用画像をダウンロード\n",
    "\n",
    "# scales=Trueのとき、画像を正規化\n",
    "# zoom:画像のスケールを調整\n",
    "exim1 = util.ExampleImages(scaled=True, zoom=0.5, pth='./')\n",
    "S1_test = exim1.image('couple.tiff') #(256, 256)\n",
    "#print(S1_test.shape)\n",
    "exim2 = util.ExampleImages(scaled=True, zoom=1, pth='./')\n",
    "S2_test = exim2.image('LENNA.bmp') #(256, 256)\n",
    "#画像2枚を1つにまとめる\n",
    "S_test = np.dstack((S1_test, S2_test)) #(x,y,枚数)\n",
    "\n",
    "#畳み込み型辞書学習に必要な変数の次元を参照\n",
    "cri_test = cnvrep.CSC_ConvRepIndexing(D, S_test)\n",
    "# shpS(N0,  N1, ...,  C,   K,   1) C is the number of channels in S\n",
    "# shpD(N0,  N1, ...,  1,   1,   M) K is the number of signals in S\n",
    "# shpX(N0,  N1, ...,  C,   K,   M) M is the number of filters in D\n",
    "print(\"cri_test\"+\"\\n\"+str(cri_test))\n",
    "Sl_test, Sh_test = util.tikhonov_filter(S_test, 5, 16) #Tikhonov正則化\n",
    "Slr_test = np.asarray(Sl_test.reshape(cri_test.shpS), dtype=S_test.dtype)\n",
    "Shr_test = np.asarray(Sh_test.reshape(cri_test.shpS), dtype=S_test.dtype)"
   ]
  },
  {
   "cell_type": "code",
   "execution_count": null,
   "metadata": {},
   "outputs": [],
   "source": []
  }
 ],
 "metadata": {
  "kernelspec": {
   "display_name": "Python 3",
   "language": "python",
   "name": "python3"
  },
  "language_info": {
   "codemirror_mode": {
    "name": "ipython",
    "version": 3
   },
   "file_extension": ".py",
   "mimetype": "text/x-python",
   "name": "python",
   "nbconvert_exporter": "python",
   "pygments_lexer": "ipython3",
   "version": "3.7.3"
  }
 },
 "nbformat": 4,
 "nbformat_minor": 2
}
